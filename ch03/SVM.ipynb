{
 "cells": [
  {
   "cell_type": "markdown",
   "metadata": {},
   "source": [
    "# Support Vector Machines\n",
    "https://www.svm-tutorial.com/"
   ]
  },
  {
   "cell_type": "markdown",
   "metadata": {},
   "source": [
    "## Chapter #1"
   ]
  },
  {
   "cell_type": "code",
   "execution_count": 1,
   "metadata": {},
   "outputs": [],
   "source": [
    "import os, sys\n",
    "sys.path.append(os.path.join(os.getcwd(), \"..\"))"
   ]
  },
  {
   "cell_type": "markdown",
   "metadata": {},
   "source": [
    "### Vectors"
   ]
  },
  {
   "cell_type": "markdown",
   "metadata": {},
   "source": [
    "A vector can be defined by its coordinates or by its magnitutde and direction."
   ]
  },
  {
   "cell_type": "code",
   "execution_count": 2,
   "metadata": {},
   "outputs": [],
   "source": [
    "import numpy as np\n",
    "import math"
   ]
  },
  {
   "cell_type": "code",
   "execution_count": 3,
   "metadata": {},
   "outputs": [
    {
     "data": {
      "text/plain": [
       "5.0"
      ]
     },
     "execution_count": 3,
     "metadata": {},
     "output_type": "execute_result"
    }
   ],
   "source": [
    "# Norm of the vector\n",
    "\n",
    "x = [3,4]\n",
    "np.linalg.norm(x) # 5.0"
   ]
  },
  {
   "cell_type": "code",
   "execution_count": 4,
   "metadata": {},
   "outputs": [],
   "source": [
    "# Direction of the vector\n",
    "\n",
    "# Compute the direction of a vector x.\n",
    "def direction(x):\n",
    "    return x/np.linalg.norm(x)"
   ]
  },
  {
   "cell_type": "code",
   "execution_count": 5,
   "metadata": {},
   "outputs": [
    {
     "name": "stdout",
     "output_type": "stream",
     "text": [
      "[ 0.6  0.8]\n",
      "[ 0.6  0.8]\n"
     ]
    }
   ],
   "source": [
    "# Multiple vectors can have the same direction.\n",
    "\n",
    "u_1 = np.array([3,4])\n",
    "u_2 = np.array([30,40])\n",
    "\n",
    "print(direction(u_1)) # [0.6 , 0.8]\n",
    "print(direction(u_2)) # [0.6 , 0.8]"
   ]
  },
  {
   "cell_type": "code",
   "execution_count": 6,
   "metadata": {},
   "outputs": [
    {
     "data": {
      "text/plain": [
       "1.0"
      ]
     },
     "execution_count": 6,
     "metadata": {},
     "output_type": "execute_result"
    }
   ],
   "source": [
    "# The norm of direction vector is one\n",
    "\n",
    "np.linalg.norm(np.array([0.6, 0.8])) # 1.0"
   ]
  },
  {
   "cell_type": "code",
   "execution_count": 7,
   "metadata": {},
   "outputs": [
    {
     "name": "stdout",
     "output_type": "stream",
     "text": [
      "48.0832611207\n",
      "2.9442505912e-15\n",
      "-48.0832611207\n",
      "34\n"
     ]
    }
   ],
   "source": [
    "# Dot product (scalar product)\n",
    "\n",
    "# Geometric definition\n",
    "\n",
    "def geometric_dot_product(x, y, theta):\n",
    "    x_norm = np.linalg.norm(x)\n",
    "    y_norm = np.linalg.norm(y)\n",
    "    return x_norm * y_norm * math.cos(math.radians(theta))\n",
    "\n",
    "print(geometric_dot_product(np.array([3, 5]), np.array([8, 2]), 0))\n",
    "print(geometric_dot_product(np.array([3, 5]), np.array([8, 2]), 90))\n",
    "print(geometric_dot_product(np.array([3, 5]), np.array([8, 2]), 180))\n",
    "\n",
    "\n",
    "# Algebraic definition\n",
    "\n",
    "def dot_product(x, y):\n",
    "    return sum(xi * yi for xi, yi in zip(x, y))\n",
    "\n",
    "print(dot_product(np.array([3, 5]), np.array([8, 2])))"
   ]
  },
  {
   "cell_type": "markdown",
   "metadata": {},
   "source": [
    "## Chapter #2"
   ]
  },
  {
   "cell_type": "markdown",
   "metadata": {},
   "source": [
    "### The Perceptron learning algorithm"
   ]
  },
  {
   "cell_type": "code",
   "execution_count": 8,
   "metadata": {},
   "outputs": [],
   "source": [
    "import numpy as np\n",
    "import matplotlib.pyplot as plt"
   ]
  },
  {
   "cell_type": "code",
   "execution_count": 9,
   "metadata": {},
   "outputs": [],
   "source": [
    "class Perceptron:\n",
    "    \n",
    "    def __init__(self, eta=1, n_iter=10):\n",
    "        self.eta = eta\n",
    "        self.n_iter = n_iter\n",
    "    \n",
    "    def fit(self, X, y):\n",
    "        self.init_weights(X.shape[1] + 1)\n",
    "        for index in range(self.n_iter):\n",
    "            self.update_weights(X, y)\n",
    "        \n",
    "    def init_weights(self, n):\n",
    "        rgen = np.random.RandomState()\n",
    "        self.w = rgen.normal(loc=0.03, scale=0.01, size=n)\n",
    "        \n",
    "    def update_weights(self, X, y):\n",
    "        yhat = self.predict(X)\n",
    "        mis_X, mis_y = self.pick_single_sample(X[y != yhat], y[y != yhat])\n",
    "        self.w[1:] = self.w[1:] + mis_X * mis_y\n",
    "        self.w[0] = self.w[0] + mis_y\n",
    "        \n",
    "    def pick_single_sample(self, X, y):\n",
    "        index = np.random.choice(np.arange(X.shape[0]), 1)[0]\n",
    "        return X[index,:], y[index]\n",
    "        \n",
    "    def predict(self, X):\n",
    "        return np.sign(X.dot(self.w[1:]) + self.w[0])\n",
    "        "
   ]
  },
  {
   "cell_type": "code",
   "execution_count": 11,
   "metadata": {},
   "outputs": [],
   "source": [
    "def perceptron_learning_algorithm(X, y, max_iter=10):\n",
    "    w = np.random.rand(3)\n",
    "    # can also be initialized at zero.\n",
    "    mis_X, mis_y = predict(hypothesis, X, y, w)\n",
    "    while mis_X.any() and max_iter > 0:\n",
    "        x, expected_y = pick_one_from(mis_X, mis_y)\n",
    "        w = w + x * expected_y # update rule\n",
    "        mis_X, mis_y = predict(hypothesis, X, y, w)\n",
    "        max_iter -= 1\n",
    "    return w\n",
    "\n",
    "def hypothesis(x, w):\n",
    "    return np.sign(np.dot(w, x))\n",
    "\n",
    "# Make predictions on all data points\n",
    "# and return the ones that are misclassified.\n",
    "def predict(hypothesis_function, X, y, w):\n",
    "    predictions = np.apply_along_axis(hypothesis_function, 1, X, w).flatten()\n",
    "    return X[y != predictions], y[y != predictions]\n",
    "\n",
    "# Pick one misclassified example randomly\n",
    "# and return it with its expected label.\n",
    "def pick_one_from(X, y):\n",
    "    #np.random.shuffle(misclassified_examples)\n",
    "    index = np.random.choice(np.arange(X.shape[0]), 1)\n",
    "    return X[index,:], y[index]\n",
    "    # x = misclassified_examples[0]\n",
    "    # index = np.where(np.all(X == x, axis=1))\n",
    "    # return x, y[index]"
   ]
  },
  {
   "cell_type": "code",
   "execution_count": 12,
   "metadata": {},
   "outputs": [],
   "source": [
    "from sklearn import datasets\n",
    "from sklearn.model_selection import train_test_split\n",
    "from sklearn.preprocessing import StandardScaler\n",
    "\n",
    "iris = datasets.load_iris()\n",
    "X = iris.data[:, [2, 3]]\n",
    "y = iris.target\n",
    "\n",
    "X_01_subset = X[(y == 1) | (y == 2)]\n",
    "y_01_subset = y[(y == 1) | (y == 2)]\n",
    "y_01_subset = np.where(y_01_subset == 1, -1, 1)\n",
    "\n",
    "X_train, X_test, y_train, y_test = train_test_split(\n",
    "    X_01_subset, y_01_subset, \n",
    "    test_size=0.3, random_state=1, stratify=y_01_subset\n",
    ")\n",
    "\n",
    "sc = StandardScaler()\n",
    "sc.fit(X_train)\n",
    "\n",
    "X_train_std = sc.transform(X_train)\n",
    "X_test_std = sc.transform(X_test)\n",
    "\n",
    "# X_train_std = np.append(np.ones(X_train_std.shape[0]).reshape(-1, 1), X_tra?n_std, axis=1)\n",
    "# X_test_std = np.append(np.ones(X_test_std.shape[0]).reshape(-1, 1), X_test_std, axis=1)\n",
    "\n",
    "# w = perceptron_learning_algorithm(X_train_std, y_train, max_iter=100)"
   ]
  },
  {
   "cell_type": "code",
   "execution_count": 13,
   "metadata": {},
   "outputs": [
    {
     "ename": "ValueError",
     "evalue": "shapes (3,) and (2,) not aligned: 3 (dim 0) != 2 (dim 0)",
     "output_type": "error",
     "traceback": [
      "\u001b[0;31m---------------------------------------------------------------------------\u001b[0m",
      "\u001b[0;31mValueError\u001b[0m                                Traceback (most recent call last)",
      "\u001b[0;32m<ipython-input-13-cd348f952c17>\u001b[0m in \u001b[0;36m<module>\u001b[0;34m()\u001b[0m\n\u001b[1;32m      1\u001b[0m \u001b[0mw\u001b[0m \u001b[0;34m=\u001b[0m \u001b[0mnp\u001b[0m\u001b[0;34m.\u001b[0m\u001b[0mrandom\u001b[0m\u001b[0;34m.\u001b[0m\u001b[0mrand\u001b[0m\u001b[0;34m(\u001b[0m\u001b[0;36m3\u001b[0m\u001b[0;34m)\u001b[0m\u001b[0;34m\u001b[0m\u001b[0m\n\u001b[0;32m----> 2\u001b[0;31m \u001b[0my_test_yhat\u001b[0m \u001b[0;34m=\u001b[0m \u001b[0mnp\u001b[0m\u001b[0;34m.\u001b[0m\u001b[0mapply_along_axis\u001b[0m\u001b[0;34m(\u001b[0m\u001b[0mhypothesis\u001b[0m\u001b[0;34m,\u001b[0m \u001b[0;36m1\u001b[0m\u001b[0;34m,\u001b[0m \u001b[0mX_test_std\u001b[0m\u001b[0;34m,\u001b[0m \u001b[0mw\u001b[0m\u001b[0;34m)\u001b[0m\u001b[0;34m.\u001b[0m\u001b[0mflatten\u001b[0m\u001b[0;34m(\u001b[0m\u001b[0;34m)\u001b[0m\u001b[0;34m\u001b[0m\u001b[0m\n\u001b[0m\u001b[1;32m      3\u001b[0m \u001b[0;34m\u001b[0m\u001b[0m\n\u001b[1;32m      4\u001b[0m plt.scatter(\n\u001b[1;32m      5\u001b[0m     \u001b[0mX_test_std\u001b[0m\u001b[0;34m[\u001b[0m\u001b[0my_test_yhat\u001b[0m \u001b[0;34m!=\u001b[0m \u001b[0my_test\u001b[0m\u001b[0;34m,\u001b[0m \u001b[0;36m1\u001b[0m\u001b[0;34m]\u001b[0m\u001b[0;34m,\u001b[0m \u001b[0mX_test_std\u001b[0m\u001b[0;34m[\u001b[0m\u001b[0my_test_yhat\u001b[0m \u001b[0;34m!=\u001b[0m \u001b[0my_test\u001b[0m\u001b[0;34m,\u001b[0m \u001b[0;36m2\u001b[0m\u001b[0;34m]\u001b[0m\u001b[0;34m,\u001b[0m\u001b[0;34m\u001b[0m\u001b[0m\n",
      "\u001b[0;32m/media/kuba/Data/Projects/PML/venv/lib/python3.5/site-packages/numpy/lib/shape_base.py\u001b[0m in \u001b[0;36mapply_along_axis\u001b[0;34m(func1d, axis, arr, *args, **kwargs)\u001b[0m\n\u001b[1;32m    114\u001b[0m     \u001b[0;32mexcept\u001b[0m \u001b[0mStopIteration\u001b[0m\u001b[0;34m:\u001b[0m\u001b[0;34m\u001b[0m\u001b[0m\n\u001b[1;32m    115\u001b[0m         \u001b[0;32mraise\u001b[0m \u001b[0mValueError\u001b[0m\u001b[0;34m(\u001b[0m\u001b[0;34m'Cannot apply_along_axis when any iteration dimensions are 0'\u001b[0m\u001b[0;34m)\u001b[0m\u001b[0;34m\u001b[0m\u001b[0m\n\u001b[0;32m--> 116\u001b[0;31m     \u001b[0mres\u001b[0m \u001b[0;34m=\u001b[0m \u001b[0masanyarray\u001b[0m\u001b[0;34m(\u001b[0m\u001b[0mfunc1d\u001b[0m\u001b[0;34m(\u001b[0m\u001b[0minarr_view\u001b[0m\u001b[0;34m[\u001b[0m\u001b[0mind0\u001b[0m\u001b[0;34m]\u001b[0m\u001b[0;34m,\u001b[0m \u001b[0;34m*\u001b[0m\u001b[0margs\u001b[0m\u001b[0;34m,\u001b[0m \u001b[0;34m**\u001b[0m\u001b[0mkwargs\u001b[0m\u001b[0;34m)\u001b[0m\u001b[0;34m)\u001b[0m\u001b[0;34m\u001b[0m\u001b[0m\n\u001b[0m\u001b[1;32m    117\u001b[0m \u001b[0;34m\u001b[0m\u001b[0m\n\u001b[1;32m    118\u001b[0m     \u001b[0;31m# build a buffer for storing evaluations of func1d.\u001b[0m\u001b[0;34m\u001b[0m\u001b[0;34m\u001b[0m\u001b[0m\n",
      "\u001b[0;32m<ipython-input-11-a088b1c96669>\u001b[0m in \u001b[0;36mhypothesis\u001b[0;34m(x, w)\u001b[0m\n\u001b[1;32m     11\u001b[0m \u001b[0;34m\u001b[0m\u001b[0m\n\u001b[1;32m     12\u001b[0m \u001b[0;32mdef\u001b[0m \u001b[0mhypothesis\u001b[0m\u001b[0;34m(\u001b[0m\u001b[0mx\u001b[0m\u001b[0;34m,\u001b[0m \u001b[0mw\u001b[0m\u001b[0;34m)\u001b[0m\u001b[0;34m:\u001b[0m\u001b[0;34m\u001b[0m\u001b[0m\n\u001b[0;32m---> 13\u001b[0;31m     \u001b[0;32mreturn\u001b[0m \u001b[0mnp\u001b[0m\u001b[0;34m.\u001b[0m\u001b[0msign\u001b[0m\u001b[0;34m(\u001b[0m\u001b[0mnp\u001b[0m\u001b[0;34m.\u001b[0m\u001b[0mdot\u001b[0m\u001b[0;34m(\u001b[0m\u001b[0mw\u001b[0m\u001b[0;34m,\u001b[0m \u001b[0mx\u001b[0m\u001b[0;34m)\u001b[0m\u001b[0;34m)\u001b[0m\u001b[0;34m\u001b[0m\u001b[0m\n\u001b[0m\u001b[1;32m     14\u001b[0m \u001b[0;34m\u001b[0m\u001b[0m\n\u001b[1;32m     15\u001b[0m \u001b[0;31m# Make predictions on all data points\u001b[0m\u001b[0;34m\u001b[0m\u001b[0;34m\u001b[0m\u001b[0m\n",
      "\u001b[0;31mValueError\u001b[0m: shapes (3,) and (2,) not aligned: 3 (dim 0) != 2 (dim 0)"
     ]
    }
   ],
   "source": [
    "w = np.random.rand(3)\n",
    "y_test_yhat = np.apply_along_axis(hypothesis, 1, X_test_std, w).flatten()\n",
    "\n",
    "plt.scatter(\n",
    "    X_test_std[y_test_yhat != y_test, 1], X_test_std[y_test_yhat != y_test, 2], \n",
    "    c=\"purple\", alpha=1.0, linewidths=1, marker=\"o\", s=150, label=\"misclassified\"\n",
    ")\n",
    "plt.scatter(\n",
    "    X_test_std[y_test_yhat != y_test, 1], X_test_std[y_test_yhat != y_test, 2], \n",
    "    c=\"white\", alpha=1.0, linewidths=1, marker=\"o\", s=100\n",
    ")\n",
    "plt.scatter(X_test_std[y_test == 1, 1], X_test_std[y_test == 1, 2], color=\"red\", marker=\"o\", label=\"setosa\")\n",
    "plt.scatter(X_test_std[y_test == -1, 1], X_test_std[y_test == -1, 2], color=\"blue\", marker=\"x\", label=\"versicolor\")\n",
    "\n",
    "plt.xlabel(\"sepal length [cm]\")\n",
    "plt.ylabel(\"petal length [cm]\")\n",
    "plt.legend(loc=\"upper left\")\n",
    "plt.show()"
   ]
  },
  {
   "cell_type": "markdown",
   "metadata": {},
   "source": [
    "## Chapter #3"
   ]
  },
  {
   "cell_type": "code",
   "execution_count": 52,
   "metadata": {},
   "outputs": [],
   "source": [
    "from matplotlib.colors import ListedColormap"
   ]
  },
  {
   "cell_type": "code",
   "execution_count": 80,
   "metadata": {},
   "outputs": [],
   "source": [
    "def functional_margin(w, b, X, y):\n",
    "    return np.min(y * ((np.dot(X, w) + b)))"
   ]
  },
  {
   "cell_type": "code",
   "execution_count": 81,
   "metadata": {},
   "outputs": [
    {
     "name": "stdout",
     "output_type": "stream",
     "text": [
      "8\n",
      "80\n"
     ]
    }
   ],
   "source": [
    "X = np.array([[1, 1]])\n",
    "y = np.array([1])\n",
    "\n",
    "w_1 = np.array([2, 1])\n",
    "b_1 = np.array([5])\n",
    "\n",
    "w_2 = 10 * w_1\n",
    "b_2 = 10 * b_1\n",
    "\n",
    "print(functional_margin(w_1, b_1, X, y))\n",
    "print(functional_margin(w_2, b_2, X, y))"
   ]
  },
  {
   "cell_type": "code",
   "execution_count": 83,
   "metadata": {},
   "outputs": [],
   "source": [
    "def geometric_margin(w, b, X, y):\n",
    "    norm = np.linalg.norm(w)\n",
    "    return np.min(y * ((np.dot(X, w/norm) + b/norm)))"
   ]
  },
  {
   "cell_type": "code",
   "execution_count": 84,
   "metadata": {},
   "outputs": [
    {
     "name": "stdout",
     "output_type": "stream",
     "text": [
      "3.577708764\n",
      "3.577708764\n"
     ]
    }
   ],
   "source": [
    "print(geometric_margin(w_1, b_1, X, y))\n",
    "print(geometric_margin(w_2, b_2, X, y))"
   ]
  },
  {
   "cell_type": "code",
   "execution_count": 93,
   "metadata": {},
   "outputs": [],
   "source": [
    "pos_x = np.array([[2, 7], [8, 3], [7, 5], [4, 4], [4, 6], [1, 3], [2, 5]])\n",
    "neg_x = np.array([[8, 7], [4, 10], [9, 7], [7, 10], [9, 6], [4, 8], [10, 10]])\n",
    "\n",
    "X = np.vstack((pos_x, neg_x))\n",
    "y = np.hstack((np.ones(pos_x.shape[0]), -1*np.ones(neg_x.shape[0])))\n",
    "\n",
    "xx1, xx2 = np.meshgrid(np.arange(1, 11, 1),np.arange(1, 11, 1))\n",
    "xx = np.array([xx1.ravel(), xx2.ravel()]).T\n",
    "\n",
    "w = np.array([-0.4, -1])\n",
    "b = np.array([8.5])\n",
    "\n",
    "z = np.dot(xx, w) + b\n",
    "z = z.reshape(xx1.shape)"
   ]
  },
  {
   "cell_type": "code",
   "execution_count": 94,
   "metadata": {},
   "outputs": [
    {
     "data": {
      "image/png": "[encoded data removed]",
      "text/plain": [
       "<matplotlib.figure.Figure at 0x7f1966f37748>"
      ]
     },
     "metadata": {},
     "output_type": "display_data"
    }
   ],
   "source": [
    "colors = ('red', 'blue', 'lightgreen', 'gray', 'cyan')\n",
    "cmap = ListedColormap(colors[:2])\n",
    "\n",
    "plt.contourf(xx1, xx2, z, alpha=0.4, cmap=cmap)\n",
    "plt.xlim(1, 10)\n",
    "plt.ylim(1, 10)\n",
    "plt.scatter(pos_x[:, 0], pos_x[:, 1], color=\"red\", marker=\"o\", label=\"positive\")\n",
    "plt.scatter(neg_x[:, 0], neg_x[:, 1], color=\"blue\", marker=\"x\", label=\"negative\")\n",
    "plt.legend(loc=\"upper left\")\n",
    "plt.show()"
   ]
  },
  {
   "cell_type": "code",
   "execution_count": 89,
   "metadata": {},
   "outputs": [
    {
     "name": "stdout",
     "output_type": "stream",
     "text": [
      "0.185695338177\n",
      "0.64993368362\n"
     ]
    }
   ],
   "source": [
    "print(geometric_margin(w, np.array([8]), X, y))\n",
    "print(geometric_margin(w, np.array([8.5]), X, y))"
   ]
  }
 ],
 "metadata": {
  "kernelspec": {
   "display_name": "Python 3",
   "language": "python",
   "name": "python3"
  },
  "language_info": {
   "codemirror_mode": {
    "name": "ipython",
    "version": 3
   },
   "file_extension": ".py",
   "mimetype": "text/x-python",
   "name": "python",
   "nbconvert_exporter": "python",
   "pygments_lexer": "ipython3",
   "version": "3.5.3"
  }
 },
 "nbformat": 4,
 "nbformat_minor": 2
}
