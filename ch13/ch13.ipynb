{
 "cells": [
  {
   "cell_type": "markdown",
   "metadata": {},
   "source": [
    "# CH13: Parallelizing Neural Network Training with TensorFlow"
   ]
  },
  {
   "cell_type": "markdown",
   "metadata": {},
   "source": [
    "https://www.tensorflow.org/"
   ]
  },
  {
   "cell_type": "code",
   "execution_count": 6,
   "metadata": {},
   "outputs": [],
   "source": [
    "import tensorflow as tf\n",
    "import tensorflow.contrib.keras as keras\n",
    "import numpy as np\n",
    "import matplotlib.pyplot as plt\n",
    "\n",
    "from IPython.display import clear_output, Image, display, HTML"
   ]
  },
  {
   "cell_type": "code",
   "execution_count": 4,
   "metadata": {},
   "outputs": [
    {
     "data": {
      "text/plain": [
       "'1.8.0'"
      ]
     },
     "execution_count": 4,
     "metadata": {},
     "output_type": "execute_result"
    }
   ],
   "source": [
    "tf.__version__"
   ]
  },
  {
   "cell_type": "markdown",
   "metadata": {},
   "source": [
    "## First steps with TensorFlow"
   ]
  },
  {
   "cell_type": "code",
   "execution_count": 6,
   "metadata": {},
   "outputs": [],
   "source": [
    "g = tf.Graph()"
   ]
  },
  {
   "cell_type": "code",
   "execution_count": 7,
   "metadata": {},
   "outputs": [],
   "source": [
    "with g.as_default():\n",
    "    x = tf.placeholder(dtype=tf.float32, shape=None, name=\"x\")\n",
    "    w = tf.Variable(2.0, name=\"weight\")\n",
    "    b = tf.Variable(0.7, name=\"bias\")\n",
    "    \n",
    "    z = w*x + b\n",
    "    \n",
    "    init = tf.global_variables_initializer()"
   ]
  },
  {
   "cell_type": "code",
   "execution_count": 10,
   "metadata": {},
   "outputs": [
    {
     "name": "stdout",
     "output_type": "stream",
     "text": [
      "x= 1.0 --> z= 2.7\n",
      "x= 0.6 --> z= 1.9\n",
      "x=-1.8 --> z=-2.9\n"
     ]
    }
   ],
   "source": [
    "with tf.Session(graph=g) as sess:\n",
    "    sess.run(init)\n",
    "    \n",
    "    for t in [1.0, 0.6, -1.8]:\n",
    "        print(\"x=%4.1f --> z=%4.1f\" % (t, sess.run(z, feed_dict={x: t})))"
   ]
  },
  {
   "cell_type": "markdown",
   "metadata": {},
   "source": [
    "## Working with array structures"
   ]
  },
  {
   "cell_type": "code",
   "execution_count": 36,
   "metadata": {},
   "outputs": [],
   "source": [
    "g = tf.Graph()\n",
    "\n",
    "with g.as_default():\n",
    "    x = tf.placeholder(dtype=tf.float32, shape=(None, 2, 3), name=\"input_x\")\n",
    "    \n",
    "    x2 = tf.reshape(x, shape=(-1, 6), name=\"x2\")\n",
    "    xsum = tf.reduce_sum(x2, axis=0, name=\"col_sum\")\n",
    "    xmean = tf.reduce_mean(x2, axis=0, name=\"col_mean\")"
   ]
  },
  {
   "cell_type": "code",
   "execution_count": 37,
   "metadata": {},
   "outputs": [
    {
     "name": "stdout",
     "output_type": "stream",
     "text": [
      "input shape:  (3, 2, 3)\n",
      "input array:\n",
      " [[[ 0  1  2]\n",
      "  [ 3  4  5]]\n",
      "\n",
      " [[ 6  7  8]\n",
      "  [ 9 10 11]]\n",
      "\n",
      " [[12 13 14]\n",
      "  [15 16 17]]]\n",
      "resphaed: \n",
      " [[ 0.  1.  2.  3.  4.  5.]\n",
      " [ 6.  7.  8.  9. 10. 11.]\n",
      " [12. 13. 14. 15. 16. 17.]]\n",
      "column sums:\n",
      "  [18. 21. 24. 27. 30. 33.]\n",
      "row sums:\n",
      "  [ 6.  7.  8.  9. 10. 11.]\n"
     ]
    }
   ],
   "source": [
    "with tf.Session(graph=g) as sess:\n",
    "    x_array = np.arange(18).reshape(3, 2, 3)\n",
    "    \n",
    "    print(\"input shape: \", x_array.shape)\n",
    "    print(\"input array:\\n\", x_array)\n",
    "    print(\"resphaed: \\n\", sess.run(x2, feed_dict={x: x_array}))\n",
    "    print(\"column sums:\\n \", sess.run(xsum, feed_dict={x: x_array}))\n",
    "    print(\"row sums:\\n \", sess.run(xmean, feed_dict={x: x_array}))"
   ]
  },
  {
   "cell_type": "markdown",
   "metadata": {},
   "source": [
    "## Developing a simple model with the low-level TensorFlow API\n",
    "\n",
    "Ordinary Least Squares (OLS) regression"
   ]
  },
  {
   "cell_type": "code",
   "execution_count": 40,
   "metadata": {},
   "outputs": [],
   "source": [
    "X_train = np.arange(10).reshape((10, 1))\n",
    "y_train = np.array([1.0, 1.3, 3.1, 2.0, 5.0, 6.3, 6.6, 7.4, 8.0, 9.0])"
   ]
  },
  {
   "cell_type": "code",
   "execution_count": 58,
   "metadata": {},
   "outputs": [],
   "source": [
    "class TfLinreg:\n",
    "    \n",
    "    def __init__(self, x_dim, learning_rate=0.01, random_seed=None):\n",
    "        self.x_dim = x_dim\n",
    "        self.learning_rate = learning_rate\n",
    "        self.g = tf.Graph()\n",
    "        with self.g.as_default():\n",
    "            tf.set_random_seed(random_seed)\n",
    "            self.build()\n",
    "            self.init_op = tf.global_variables_initializer()\n",
    "            \n",
    "    def build(self):\n",
    "        self.X = tf.placeholder(dtype=tf.float32, shape=(None, self.x_dim), name=\"x_input\")\n",
    "        self.y = tf.placeholder(dtype=tf.float32, name=\"y_input\")\n",
    "        \n",
    "        print(self.X)\n",
    "        print(self.y)\n",
    "        \n",
    "        w = tf.Variable(tf.zeros(shape=(1)), name=\"weight\")\n",
    "        b = tf.Variable(tf.zeros(shape=(1)), name=\"bias\")\n",
    "        \n",
    "        print(w)\n",
    "        print(b)\n",
    "        \n",
    "        self.z_net = tf.squeeze(w*self.X + b, name=\"z_net\")\n",
    "        \n",
    "        print(self.z_net)\n",
    "        \n",
    "        sqr_errors = tf.square(self.y - self.z_net, name=\"sq_errors\")\n",
    "        \n",
    "        print(sqr_errors)\n",
    "        \n",
    "        self.mean_cost = tf.reduce_mean(sqr_errors, name=\"mean_cost\")\n",
    "        \n",
    "        optimizer = tf.train.GradientDescentOptimizer(\n",
    "            learning_rate = self.learning_rate,\n",
    "            name = \"GradientDescent\"\n",
    "        )\n",
    "        self.optimizer = optimizer.minimize(self.mean_cost)\n",
    "        \n",
    "    def train(self, sess, X_train, y_train, num_epochs=10):\n",
    "        sess.run(self.init_op)\n",
    "        \n",
    "        training_costs = []\n",
    "        for i in range(num_epochs):\n",
    "            _, cost = sess.run(\n",
    "                [self.optimizer, self.mean_cost], \n",
    "                feed_dict={\n",
    "                    self.X: X_train,\n",
    "                    self.y: y_train\n",
    "                }\n",
    "            )\n",
    "            training_costs.append(cost)\n",
    "        \n",
    "        return training_costs\n",
    "    \n",
    "    def predict(self, sess, X):\n",
    "        y_pred = sess.run(self.z_net, feed_dict={self.X: X})\n",
    "        return y_pred"
   ]
  },
  {
   "cell_type": "code",
   "execution_count": 80,
   "metadata": {},
   "outputs": [
    {
     "name": "stdout",
     "output_type": "stream",
     "text": [
      "Tensor(\"x_input:0\", shape=(?, 1), dtype=float32)\n",
      "Tensor(\"y_input:0\", dtype=float32)\n",
      "<tf.Variable 'weight:0' shape=(1,) dtype=float32_ref>\n",
      "<tf.Variable 'bias:0' shape=(1,) dtype=float32_ref>\n",
      "Tensor(\"z_net:0\", dtype=float32)\n",
      "Tensor(\"sq_errors:0\", dtype=float32)\n"
     ]
    }
   ],
   "source": [
    "lrmodel = TfLinreg(x_dim=X_train.shape[1], learning_rate=0.01)\n",
    "\n",
    "with tf.Session(graph=lrmodel.g) as sess:\n",
    "    writer = tf.summary.FileWriter(\".\", sess.graph)\n",
    "    training_costs = lrmodel.train(sess, X_train, y_train)\n",
    "    writer.close()"
   ]
  },
  {
   "cell_type": "code",
   "execution_count": 60,
   "metadata": {},
   "outputs": [
    {
     "data": {
      "image/png": "[encoded data removed]",
      "text/plain": [
       "<Figure size 432x288 with 1 Axes>"
      ]
     },
     "metadata": {},
     "output_type": "display_data"
    }
   ],
   "source": [
    "plt.plot(range(1, len(training_costs)+1), training_costs)\n",
    "plt.tight_layout()\n",
    "plt.xlabel(\"Epoch\")\n",
    "plt.ylabel(\"Training Cost\")\n",
    "plt.show()"
   ]
  },
  {
   "cell_type": "code",
   "execution_count": 63,
   "metadata": {},
   "outputs": [
    {
     "data": {
      "image/png": "[encoded data removed]",
      "text/plain": [
       "<Figure size 432x288 with 1 Axes>"
      ]
     },
     "metadata": {},
     "output_type": "display_data"
    }
   ],
   "source": [
    "plt.scatter(X_train, y_train, marker=\"s\", s=50, label=\"Training Data\")\n",
    "plt.plot(\n",
    "    range(X_train.shape[0]), lrmodel.predict(sess, X_train), \n",
    "    color=\"gray\", marker=\"o\", markersize=6, linewidth=3, label=\"Linear Model\"\n",
    ")\n",
    "plt.xlabel(\"x\")\n",
    "plt.ylabel(\"y\")\n",
    "plt.legend()\n",
    "plt.tight_layout()\n",
    "plt.show()"
   ]
  },
  {
   "cell_type": "markdown",
   "metadata": {},
   "source": [
    "## Training neural networks efficiently with high-level TensorFlow APIs"
   ]
  },
  {
   "cell_type": "code",
   "execution_count": 7,
   "metadata": {},
   "outputs": [],
   "source": [
    "from tensorflow.examples.tutorials.mnist import input_data"
   ]
  },
  {
   "cell_type": "code",
   "execution_count": 25,
   "metadata": {},
   "outputs": [
    {
     "name": "stdout",
     "output_type": "stream",
     "text": [
      "Extracting MNIST_data/train-images-idx3-ubyte.gz\n",
      "Extracting MNIST_data/train-labels-idx1-ubyte.gz\n",
      "Extracting MNIST_data/t10k-images-idx3-ubyte.gz\n",
      "Extracting MNIST_data/t10k-labels-idx1-ubyte.gz\n"
     ]
    }
   ],
   "source": [
    "mnist = input_data.read_data_sets(\"MNIST_data/\", one_hot=False)"
   ]
  },
  {
   "cell_type": "code",
   "execution_count": 26,
   "metadata": {},
   "outputs": [],
   "source": [
    "X_train = mnist.train.images\n",
    "y_train = mnist.train.labels"
   ]
  },
  {
   "cell_type": "code",
   "execution_count": 27,
   "metadata": {},
   "outputs": [],
   "source": [
    "X_test = mnist.test.images\n",
    "y_test = mnist.test.labels"
   ]
  },
  {
   "cell_type": "markdown",
   "metadata": {},
   "source": [
    "### Building multilayer neural networks using TensorFlow's Layers API"
   ]
  },
  {
   "cell_type": "code",
   "execution_count": 22,
   "metadata": {},
   "outputs": [],
   "source": [
    "n_features = X_train.shape[1]\n",
    "n_classes = 10\n",
    "\n",
    "random_seed = 123\n",
    "np.random.seed(random_seed)"
   ]
  },
  {
   "cell_type": "code",
   "execution_count": 36,
   "metadata": {},
   "outputs": [],
   "source": [
    "g = tf.Graph()\n",
    "\n",
    "with g.as_default():\n",
    "    tf.set_random_seed(random_seed)\n",
    "    tf_x = tf.placeholder(dtype=tf.float32, shape=(None, n_features), name=\"tf_x\")\n",
    "    tf_y = tf.placeholder(dtype=tf.int32, shape=None, name=\"tf_y\")\n",
    "    \n",
    "    y_onehot = tf.one_hot(indices=tf_y, depth=n_classes)\n",
    "    \n",
    "    h1 = tf.layers.dense(inputs=tf_x, units=50, activation=tf.tanh, name=\"layer1\")\n",
    "    h2 = tf.layers.dense(inputs=h1, units=50, activation=tf.tanh, name=\"layer2\")\n",
    "    logits = tf.layers.dense(inputs=h2, units=10, activation=None, name=\"layer3\")\n",
    "    \n",
    "    predictions = {\n",
    "        \"classes\": tf.argmax(logits, axis=1, name=\"predicted_classes\"),\n",
    "        \"probabilities\": tf.nn.softmax(logits, name=\"softmax_tensor\")\n",
    "    }\n"
   ]
  },
  {
   "cell_type": "code",
   "execution_count": 37,
   "metadata": {},
   "outputs": [],
   "source": [
    "with g.as_default():\n",
    "    cost = tf.losses.softmax_cross_entropy(onehot_labels=y_onehot, logits=logits)\n",
    "    optimizer = tf.train.GradientDescentOptimizer(learning_rate=0.001)\n",
    "    train_op = optimizer.minimize(loss=cost)\n",
    "    init_op = tf.global_variables_initializer()"
   ]
  },
  {
   "cell_type": "code",
   "execution_count": 38,
   "metadata": {},
   "outputs": [],
   "source": [
    "def create_batch_generator(X, y, batch_size=128, shuffle=False):\n",
    "    X_copy = np.array(X)\n",
    "    y_copy = np.array(y)\n",
    "    \n",
    "    if shuffle:\n",
    "        data = np.column_stack((X_copy, y_copy))\n",
    "        np.random.shuffle(data)\n",
    "        X_copy = data[:, :-1]\n",
    "        y_copy = data[:, -1].astype(int)\n",
    "        \n",
    "    for i in range(0, X.shape[0], batch_size):\n",
    "        yield (X_copy[i:i+batch_size, :], y_copy[i:i+batch_size])"
   ]
  },
  {
   "cell_type": "code",
   "execution_count": 39,
   "metadata": {},
   "outputs": [],
   "source": [
    "sess = tf.Session(graph=g)\n",
    "sess.run(init_op)"
   ]
  },
  {
   "cell_type": "code",
   "execution_count": 40,
   "metadata": {},
   "outputs": [
    {
     "name": "stdout",
     "output_type": "stream",
     "text": [
      " -- Epoch 1: 1.9885\n",
      " -- Epoch 2: 1.4137\n",
      " -- Epoch 3: 1.1155\n",
      " -- Epoch 4: 0.9412\n",
      " -- Epoch 5: 0.8258\n",
      " -- Epoch 6: 0.7429\n",
      " -- Epoch 7: 0.6802\n",
      " -- Epoch 8: 0.6311\n",
      " -- Epoch 9: 0.5916\n",
      " -- Epoch 10: 0.5591\n",
      " -- Epoch 11: 0.5319\n",
      " -- Epoch 12: 0.5089\n",
      " -- Epoch 13: 0.4891\n",
      " -- Epoch 14: 0.4718\n",
      " -- Epoch 15: 0.4568\n",
      " -- Epoch 16: 0.4434\n",
      " -- Epoch 17: 0.4315\n",
      " -- Epoch 18: 0.4209\n",
      " -- Epoch 19: 0.4112\n",
      " -- Epoch 20: 0.4024\n",
      " -- Epoch 21: 0.3944\n",
      " -- Epoch 22: 0.3871\n",
      " -- Epoch 23: 0.3803\n",
      " -- Epoch 24: 0.3740\n",
      " -- Epoch 25: 0.3681\n",
      " -- Epoch 26: 0.3626\n",
      " -- Epoch 27: 0.3575\n",
      " -- Epoch 28: 0.3527\n",
      " -- Epoch 29: 0.3481\n",
      " -- Epoch 30: 0.3438\n",
      " -- Epoch 31: 0.3397\n",
      " -- Epoch 32: 0.3359\n",
      " -- Epoch 33: 0.3322\n",
      " -- Epoch 34: 0.3287\n",
      " -- Epoch 35: 0.3253\n",
      " -- Epoch 36: 0.3221\n",
      " -- Epoch 37: 0.3190\n",
      " -- Epoch 38: 0.3160\n",
      " -- Epoch 39: 0.3131\n",
      " -- Epoch 40: 0.3104\n",
      " -- Epoch 41: 0.3077\n",
      " -- Epoch 42: 0.3051\n",
      " -- Epoch 43: 0.3026\n",
      " -- Epoch 44: 0.3002\n",
      " -- Epoch 45: 0.2979\n",
      " -- Epoch 46: 0.2956\n",
      " -- Epoch 47: 0.2934\n",
      " -- Epoch 48: 0.2912\n",
      " -- Epoch 49: 0.2891\n",
      " -- Epoch 50: 0.2871\n"
     ]
    }
   ],
   "source": [
    "for epoch in range(50):\n",
    "    training_costs = []\n",
    "    batch_generator = create_batch_generator(X_train, y_train, batch_size=64)\n",
    "    for bX, by in batch_generator:\n",
    "        feed = {tf_x: bX, tf_y: by}\n",
    "        _, batch_cost = sess.run([train_op, cost], feed_dict=feed)\n",
    "        training_costs.append(batch_cost)\n",
    "    print(\" -- Epoch %d: %.4f\" % (epoch+1, np.mean(training_costs)))"
   ]
  },
  {
   "cell_type": "code",
   "execution_count": 42,
   "metadata": {},
   "outputs": [],
   "source": [
    "feed = {tf_x: X_test}\n",
    "y_pred = sess.run(predictions[\"classes\"], feed_dict=feed)"
   ]
  },
  {
   "cell_type": "code",
   "execution_count": 47,
   "metadata": {},
   "outputs": [
    {
     "name": "stdout",
     "output_type": "stream",
     "text": [
      "Test accuracy: 92.24%\n"
     ]
    }
   ],
   "source": [
    "print(\"Test accuracy: %.2f%%\" % (100*np.sum(y_pred == y_test)/y_test.shape[0]))"
   ]
  },
  {
   "cell_type": "markdown",
   "metadata": {},
   "source": [
    "## Developing a multilayer neurla network with Keras"
   ]
  },
  {
   "cell_type": "code",
   "execution_count": 3,
   "metadata": {},
   "outputs": [],
   "source": [
    "from tensorflow.examples.tutorials.mnist import input_data"
   ]
  },
  {
   "cell_type": "code",
   "execution_count": 4,
   "metadata": {},
   "outputs": [
    {
     "name": "stdout",
     "output_type": "stream",
     "text": [
      "WARNING:tensorflow:From <ipython-input-4-4ac699c110e7>:1: read_data_sets (from tensorflow.contrib.learn.python.learn.datasets.mnist) is deprecated and will be removed in a future version.\n",
      "Instructions for updating:\n",
      "Please use alternatives such as official/mnist/dataset.py from tensorflow/models.\n",
      "WARNING:tensorflow:From /media/kuba/Data/Projects/PML/venv/lib/python3.6/site-packages/tensorflow/contrib/learn/python/learn/datasets/mnist.py:260: maybe_download (from tensorflow.contrib.learn.python.learn.datasets.base) is deprecated and will be removed in a future version.\n",
      "Instructions for updating:\n",
      "Please write your own downloading logic.\n",
      "WARNING:tensorflow:From /media/kuba/Data/Projects/PML/venv/lib/python3.6/site-packages/tensorflow/contrib/learn/python/learn/datasets/mnist.py:262: extract_images (from tensorflow.contrib.learn.python.learn.datasets.mnist) is deprecated and will be removed in a future version.\n",
      "Instructions for updating:\n",
      "Please use tf.data to implement this functionality.\n",
      "Extracting MNIST_data/train-images-idx3-ubyte.gz\n",
      "WARNING:tensorflow:From /media/kuba/Data/Projects/PML/venv/lib/python3.6/site-packages/tensorflow/contrib/learn/python/learn/datasets/mnist.py:267: extract_labels (from tensorflow.contrib.learn.python.learn.datasets.mnist) is deprecated and will be removed in a future version.\n",
      "Instructions for updating:\n",
      "Please use tf.data to implement this functionality.\n",
      "Extracting MNIST_data/train-labels-idx1-ubyte.gz\n",
      "Extracting MNIST_data/t10k-images-idx3-ubyte.gz\n",
      "Extracting MNIST_data/t10k-labels-idx1-ubyte.gz\n",
      "WARNING:tensorflow:From /media/kuba/Data/Projects/PML/venv/lib/python3.6/site-packages/tensorflow/contrib/learn/python/learn/datasets/mnist.py:290: DataSet.__init__ (from tensorflow.contrib.learn.python.learn.datasets.mnist) is deprecated and will be removed in a future version.\n",
      "Instructions for updating:\n",
      "Please use alternatives such as official/mnist/dataset.py from tensorflow/models.\n"
     ]
    }
   ],
   "source": [
    "mnist = input_data.read_data_sets(\"MNIST_data/\", one_hot=False)\n",
    "\n",
    "X_train = mnist.train.images\n",
    "y_train = mnist.train.labels\n",
    "\n",
    "X_test = mnist.test.images\n",
    "y_test = mnist.test.labels"
   ]
  },
  {
   "cell_type": "code",
   "execution_count": 7,
   "metadata": {},
   "outputs": [],
   "source": [
    "np.random.seed(123)\n",
    "tf.set_random_seed(123)"
   ]
  },
  {
   "cell_type": "code",
   "execution_count": 8,
   "metadata": {},
   "outputs": [],
   "source": [
    "y_train_onehot = keras.utils.to_categorical(y_train)"
   ]
  },
  {
   "cell_type": "code",
   "execution_count": 9,
   "metadata": {},
   "outputs": [
    {
     "data": {
      "text/plain": [
       "array([[0., 0., 0., 0., 0., 0., 0., 1., 0., 0.],\n",
       "       [0., 0., 0., 1., 0., 0., 0., 0., 0., 0.],\n",
       "       [0., 0., 0., 0., 1., 0., 0., 0., 0., 0.]])"
      ]
     },
     "execution_count": 9,
     "metadata": {},
     "output_type": "execute_result"
    }
   ],
   "source": [
    "y_train_onehot[:3]"
   ]
  },
  {
   "cell_type": "code",
   "execution_count": 10,
   "metadata": {},
   "outputs": [],
   "source": [
    "model = keras.models.Sequential()"
   ]
  },
  {
   "cell_type": "code",
   "execution_count": 11,
   "metadata": {},
   "outputs": [],
   "source": [
    "model.add(\n",
    "    keras.layers.Dense(\n",
    "        units=50, input_dim=X_train.shape[1],\n",
    "        kernel_initializer=\"glorot_uniform\",\n",
    "        bias_initializer=\"zeros\",\n",
    "        activation=\"tanh\"\n",
    "    )\n",
    ")"
   ]
  },
  {
   "cell_type": "code",
   "execution_count": 12,
   "metadata": {},
   "outputs": [],
   "source": [
    "model.add(\n",
    "    keras.layers.Dense(\n",
    "        units=50,\n",
    "        input_dim=50, \n",
    "        kernel_initializer=\"glorot_uniform\",\n",
    "        bias_initializer=\"zeros\",\n",
    "        activation=\"tanh\"\n",
    "    )\n",
    ")"
   ]
  },
  {
   "cell_type": "code",
   "execution_count": 13,
   "metadata": {},
   "outputs": [],
   "source": [
    "model.add(\n",
    "    keras.layers.Dense(\n",
    "        units=y_train_onehot.shape[1],\n",
    "        input_dim=50,\n",
    "        kernel_initializer=\"glorot_uniform\",\n",
    "        bias_initializer=\"zeros\",\n",
    "        activation=\"softmax\"\n",
    "    )\n",
    ")"
   ]
  },
  {
   "cell_type": "code",
   "execution_count": 15,
   "metadata": {},
   "outputs": [],
   "source": [
    "sgd_optimizer = keras.optimizers.SGD(lr=0.001, decay=1e-7, momentum=0.9)"
   ]
  },
  {
   "cell_type": "code",
   "execution_count": 16,
   "metadata": {},
   "outputs": [],
   "source": [
    "model.compile(optimizer=sgd_optimizer, loss=\"categorical_crossentropy\")"
   ]
  },
  {
   "cell_type": "code",
   "execution_count": 17,
   "metadata": {},
   "outputs": [
    {
     "name": "stdout",
     "output_type": "stream",
     "text": [
      "Train on 49500 samples, validate on 5500 samples\n",
      "Epoch 1/50\n",
      "49500/49500 [==============================] - 4s 72us/step - loss: 0.9997 - val_loss: 0.4840\n",
      "Epoch 2/50\n",
      "49500/49500 [==============================] - 2s 43us/step - loss: 0.4753 - val_loss: 0.3467\n",
      "Epoch 3/50\n",
      "49500/49500 [==============================] - 2s 43us/step - loss: 0.3861 - val_loss: 0.2958\n",
      "Epoch 4/50\n",
      "49500/49500 [==============================] - 2s 43us/step - loss: 0.3441 - val_loss: 0.2693\n",
      "Epoch 5/50\n",
      "49500/49500 [==============================] - 2s 42us/step - loss: 0.3175 - val_loss: 0.2506\n",
      "Epoch 6/50\n",
      "49500/49500 [==============================] - 2s 42us/step - loss: 0.2978 - val_loss: 0.2368\n",
      "Epoch 7/50\n",
      "49500/49500 [==============================] - 2s 41us/step - loss: 0.2818 - val_loss: 0.2259\n",
      "Epoch 8/50\n",
      "49500/49500 [==============================] - 2s 43us/step - loss: 0.2684 - val_loss: 0.2152\n",
      "Epoch 9/50\n",
      "49500/49500 [==============================] - 2s 42us/step - loss: 0.2565 - val_loss: 0.2075\n",
      "Epoch 10/50\n",
      "49500/49500 [==============================] - 2s 42us/step - loss: 0.2458 - val_loss: 0.1989\n",
      "Epoch 11/50\n",
      "49500/49500 [==============================] - 2s 42us/step - loss: 0.2359 - val_loss: 0.1916\n",
      "Epoch 12/50\n",
      "49500/49500 [==============================] - 2s 41us/step - loss: 0.2267 - val_loss: 0.1861\n",
      "Epoch 13/50\n",
      "49500/49500 [==============================] - 2s 42us/step - loss: 0.2185 - val_loss: 0.1781\n",
      "Epoch 14/50\n",
      "49500/49500 [==============================] - 2s 42us/step - loss: 0.2104 - val_loss: 0.1728\n",
      "Epoch 15/50\n",
      "49500/49500 [==============================] - 2s 42us/step - loss: 0.2033 - val_loss: 0.1681\n",
      "Epoch 16/50\n",
      "49500/49500 [==============================] - 2s 42us/step - loss: 0.1962 - val_loss: 0.1629\n",
      "Epoch 17/50\n",
      "49500/49500 [==============================] - 2s 42us/step - loss: 0.1900 - val_loss: 0.1581\n",
      "Epoch 18/50\n",
      "49500/49500 [==============================] - 2s 42us/step - loss: 0.1839 - val_loss: 0.1539\n",
      "Epoch 19/50\n",
      "49500/49500 [==============================] - 2s 42us/step - loss: 0.1783 - val_loss: 0.1501\n",
      "Epoch 20/50\n",
      "49500/49500 [==============================] - 2s 44us/step - loss: 0.1729 - val_loss: 0.1473\n",
      "Epoch 21/50\n",
      "49500/49500 [==============================] - 2s 42us/step - loss: 0.1678 - val_loss: 0.1438\n",
      "Epoch 22/50\n",
      "49500/49500 [==============================] - 2s 43us/step - loss: 0.1632 - val_loss: 0.1407\n",
      "Epoch 23/50\n",
      "49500/49500 [==============================] - 2s 43us/step - loss: 0.1585 - val_loss: 0.1364\n",
      "Epoch 24/50\n",
      "49500/49500 [==============================] - 2s 43us/step - loss: 0.1543 - val_loss: 0.1341\n",
      "Epoch 25/50\n",
      "49500/49500 [==============================] - 2s 42us/step - loss: 0.1503 - val_loss: 0.1318\n",
      "Epoch 26/50\n",
      "49500/49500 [==============================] - 2s 45us/step - loss: 0.1464 - val_loss: 0.1293\n",
      "Epoch 27/50\n",
      "49500/49500 [==============================] - 2s 43us/step - loss: 0.1426 - val_loss: 0.1274\n",
      "Epoch 28/50\n",
      "49500/49500 [==============================] - 2s 43us/step - loss: 0.1392 - val_loss: 0.1250\n",
      "Epoch 29/50\n",
      "49500/49500 [==============================] - 2s 43us/step - loss: 0.1357 - val_loss: 0.1219\n",
      "Epoch 30/50\n",
      "49500/49500 [==============================] - 2s 43us/step - loss: 0.1326 - val_loss: 0.1213\n",
      "Epoch 31/50\n",
      "49500/49500 [==============================] - 2s 42us/step - loss: 0.1295 - val_loss: 0.1200\n",
      "Epoch 32/50\n",
      "49500/49500 [==============================] - 2s 42us/step - loss: 0.1265 - val_loss: 0.1172\n",
      "Epoch 33/50\n",
      "49500/49500 [==============================] - 2s 43us/step - loss: 0.1237 - val_loss: 0.1153\n",
      "Epoch 34/50\n",
      "49500/49500 [==============================] - 2s 43us/step - loss: 0.1209 - val_loss: 0.1148\n",
      "Epoch 35/50\n",
      "49500/49500 [==============================] - 2s 46us/step - loss: 0.1182 - val_loss: 0.1122\n",
      "Epoch 36/50\n",
      "49500/49500 [==============================] - 2s 44us/step - loss: 0.1159 - val_loss: 0.1107\n",
      "Epoch 37/50\n",
      "49500/49500 [==============================] - 2s 45us/step - loss: 0.1134 - val_loss: 0.1106\n",
      "Epoch 38/50\n",
      "49500/49500 [==============================] - 2s 46us/step - loss: 0.1111 - val_loss: 0.1078\n",
      "Epoch 39/50\n",
      "49500/49500 [==============================] - 3s 51us/step - loss: 0.1088 - val_loss: 0.1069\n",
      "Epoch 40/50\n",
      "49500/49500 [==============================] - 3s 56us/step - loss: 0.1066 - val_loss: 0.1072\n",
      "Epoch 41/50\n",
      "49500/49500 [==============================] - 2s 45us/step - loss: 0.1045 - val_loss: 0.1064\n",
      "Epoch 42/50\n",
      "49500/49500 [==============================] - 3s 52us/step - loss: 0.1026 - val_loss: 0.1058\n",
      "Epoch 43/50\n",
      "49500/49500 [==============================] - 2s 46us/step - loss: 0.1006 - val_loss: 0.1018\n",
      "Epoch 44/50\n",
      "49500/49500 [==============================] - 2s 43us/step - loss: 0.0987 - val_loss: 0.1029\n",
      "Epoch 45/50\n",
      "49500/49500 [==============================] - 2s 44us/step - loss: 0.0969 - val_loss: 0.1018\n",
      "Epoch 46/50\n",
      "49500/49500 [==============================] - 2s 47us/step - loss: 0.0949 - val_loss: 0.1001\n",
      "Epoch 47/50\n",
      "49500/49500 [==============================] - 3s 58us/step - loss: 0.0933 - val_loss: 0.0993\n",
      "Epoch 48/50\n",
      "49500/49500 [==============================] - 3s 61us/step - loss: 0.0917 - val_loss: 0.0989\n",
      "Epoch 49/50\n",
      "49500/49500 [==============================] - 3s 68us/step - loss: 0.0901 - val_loss: 0.0981\n",
      "Epoch 50/50\n",
      "49500/49500 [==============================] - 3s 60us/step - loss: 0.0884 - val_loss: 0.0974\n"
     ]
    }
   ],
   "source": [
    "history = model.fit(X_train, y_train_onehot, batch_size=64, epochs=50, verbose=1, validation_split=0.1)"
   ]
  },
  {
   "cell_type": "code",
   "execution_count": 20,
   "metadata": {},
   "outputs": [],
   "source": [
    "y_train_pred = model.predict_classes(X_train, verbose=0)\n",
    "y_test_pred = model.predict_classes(X_test, verbose=0)"
   ]
  },
  {
   "cell_type": "code",
   "execution_count": 21,
   "metadata": {},
   "outputs": [],
   "source": [
    "def calc_accuracy(y, yhat):\n",
    "    correct_preds = np.sum(y == yhat, axis=0)\n",
    "    return correct_preds/y.shape[0]"
   ]
  },
  {
   "cell_type": "code",
   "execution_count": 22,
   "metadata": {},
   "outputs": [
    {
     "data": {
      "text/plain": [
       "0.9762545454545455"
      ]
     },
     "execution_count": 22,
     "metadata": {},
     "output_type": "execute_result"
    }
   ],
   "source": [
    "calc_accuracy(y_train, y_train_pred)"
   ]
  },
  {
   "cell_type": "code",
   "execution_count": 23,
   "metadata": {},
   "outputs": [
    {
     "data": {
      "text/plain": [
       "0.9656"
      ]
     },
     "execution_count": 23,
     "metadata": {},
     "output_type": "execute_result"
    }
   ],
   "source": [
    "calc_accuracy(y_test, y_test_pred)"
   ]
  },
  {
   "cell_type": "code",
   "execution_count": null,
   "metadata": {},
   "outputs": [],
   "source": []
  }
 ],
 "metadata": {
  "kernelspec": {
   "display_name": "Python 3",
   "language": "python",
   "name": "python3"
  },
  "language_info": {
   "codemirror_mode": {
    "name": "ipython",
    "version": 3
   },
   "file_extension": ".py",
   "mimetype": "text/x-python",
   "name": "python",
   "nbconvert_exporter": "python",
   "pygments_lexer": "ipython3",
   "version": "3.6.5"
  }
 },
 "nbformat": 4,
 "nbformat_minor": 2
}
