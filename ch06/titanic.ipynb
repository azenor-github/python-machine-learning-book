{
 "cells": [
  {
   "cell_type": "markdown",
   "metadata": {},
   "source": [
    " # Titanic: Machine Learning from Disaster\n",
    " \n",
    " https://www.kaggle.com/c/titanic"
   ]
  },
  {
   "cell_type": "markdown",
   "metadata": {},
   "source": [
    "## Load required packages"
   ]
  },
  {
   "cell_type": "code",
   "execution_count": 93,
   "metadata": {},
   "outputs": [],
   "source": [
    "import pandas as pd\n",
    "import numpy as np\n",
    "import matplotlib.pyplot as plt\n",
    "\n",
    "from sklearn.preprocessing import Imputer, LabelEncoder, StandardScaler\n",
    "from sklearn.model_selection import (\n",
    "    train_test_split, StratifiedKFold, cross_val_score, \n",
    "    learning_curve, validation_curve, GridSearchCV\n",
    ")\n",
    "from sklearn.linear_model import LogisticRegression\n",
    "from sklearn.neighbors import KNeighborsClassifier\n",
    "from sklearn.svm import SVC\n",
    "from sklearn.tree import DecisionTreeClassifier\n",
    "from sklearn.ensemble import RandomForestClassifier\n",
    "from sklearn.pipeline import make_pipeline"
   ]
  },
  {
   "cell_type": "markdown",
   "metadata": {},
   "source": [
    "## Load dataset"
   ]
  },
  {
   "cell_type": "code",
   "execution_count": 2,
   "metadata": {},
   "outputs": [
    {
     "data": {
      "text/html": [
       "<div>\n",
       "<style scoped>\n",
       "    .dataframe tbody tr th:only-of-type {\n",
       "        vertical-align: middle;\n",
       "    }\n",
       "\n",
       "    .dataframe tbody tr th {\n",
       "        vertical-align: top;\n",
       "    }\n",
       "\n",
       "    .dataframe thead th {\n",
       "        text-align: right;\n",
       "    }\n",
       "</style>\n",
       "<table border=\"1\" class=\"dataframe\">\n",
       "  <thead>\n",
       "    <tr style=\"text-align: right;\">\n",
       "      <th></th>\n",
       "      <th>PassengerId</th>\n",
       "      <th>Survived</th>\n",
       "      <th>Pclass</th>\n",
       "      <th>Name</th>\n",
       "      <th>Sex</th>\n",
       "      <th>Age</th>\n",
       "      <th>SibSp</th>\n",
       "      <th>Parch</th>\n",
       "      <th>Ticket</th>\n",
       "      <th>Fare</th>\n",
       "      <th>Cabin</th>\n",
       "      <th>Embarked</th>\n",
       "    </tr>\n",
       "  </thead>\n",
       "  <tbody>\n",
       "    <tr>\n",
       "      <th>0</th>\n",
       "      <td>1</td>\n",
       "      <td>0</td>\n",
       "      <td>3</td>\n",
       "      <td>Braund, Mr. Owen Harris</td>\n",
       "      <td>male</td>\n",
       "      <td>22.0</td>\n",
       "      <td>1</td>\n",
       "      <td>0</td>\n",
       "      <td>A/5 21171</td>\n",
       "      <td>7.2500</td>\n",
       "      <td>NaN</td>\n",
       "      <td>S</td>\n",
       "    </tr>\n",
       "    <tr>\n",
       "      <th>1</th>\n",
       "      <td>2</td>\n",
       "      <td>1</td>\n",
       "      <td>1</td>\n",
       "      <td>Cumings, Mrs. John Bradley (Florence Briggs Th...</td>\n",
       "      <td>female</td>\n",
       "      <td>38.0</td>\n",
       "      <td>1</td>\n",
       "      <td>0</td>\n",
       "      <td>PC 17599</td>\n",
       "      <td>71.2833</td>\n",
       "      <td>C85</td>\n",
       "      <td>C</td>\n",
       "    </tr>\n",
       "    <tr>\n",
       "      <th>2</th>\n",
       "      <td>3</td>\n",
       "      <td>1</td>\n",
       "      <td>3</td>\n",
       "      <td>Heikkinen, Miss. Laina</td>\n",
       "      <td>female</td>\n",
       "      <td>26.0</td>\n",
       "      <td>0</td>\n",
       "      <td>0</td>\n",
       "      <td>STON/O2. 3101282</td>\n",
       "      <td>7.9250</td>\n",
       "      <td>NaN</td>\n",
       "      <td>S</td>\n",
       "    </tr>\n",
       "    <tr>\n",
       "      <th>3</th>\n",
       "      <td>4</td>\n",
       "      <td>1</td>\n",
       "      <td>1</td>\n",
       "      <td>Futrelle, Mrs. Jacques Heath (Lily May Peel)</td>\n",
       "      <td>female</td>\n",
       "      <td>35.0</td>\n",
       "      <td>1</td>\n",
       "      <td>0</td>\n",
       "      <td>113803</td>\n",
       "      <td>53.1000</td>\n",
       "      <td>C123</td>\n",
       "      <td>S</td>\n",
       "    </tr>\n",
       "    <tr>\n",
       "      <th>4</th>\n",
       "      <td>5</td>\n",
       "      <td>0</td>\n",
       "      <td>3</td>\n",
       "      <td>Allen, Mr. William Henry</td>\n",
       "      <td>male</td>\n",
       "      <td>35.0</td>\n",
       "      <td>0</td>\n",
       "      <td>0</td>\n",
       "      <td>373450</td>\n",
       "      <td>8.0500</td>\n",
       "      <td>NaN</td>\n",
       "      <td>S</td>\n",
       "    </tr>\n",
       "  </tbody>\n",
       "</table>\n",
       "</div>"
      ],
      "text/plain": [
       "   PassengerId  Survived  Pclass  \\\n",
       "0            1         0       3   \n",
       "1            2         1       1   \n",
       "2            3         1       3   \n",
       "3            4         1       1   \n",
       "4            5         0       3   \n",
       "\n",
       "                                                Name     Sex   Age  SibSp  \\\n",
       "0                            Braund, Mr. Owen Harris    male  22.0      1   \n",
       "1  Cumings, Mrs. John Bradley (Florence Briggs Th...  female  38.0      1   \n",
       "2                             Heikkinen, Miss. Laina  female  26.0      0   \n",
       "3       Futrelle, Mrs. Jacques Heath (Lily May Peel)  female  35.0      1   \n",
       "4                           Allen, Mr. William Henry    male  35.0      0   \n",
       "\n",
       "   Parch            Ticket     Fare Cabin Embarked  \n",
       "0      0         A/5 21171   7.2500   NaN        S  \n",
       "1      0          PC 17599  71.2833   C85        C  \n",
       "2      0  STON/O2. 3101282   7.9250   NaN        S  \n",
       "3      0            113803  53.1000  C123        S  \n",
       "4      0            373450   8.0500   NaN        S  "
      ]
     },
     "execution_count": 2,
     "metadata": {},
     "output_type": "execute_result"
    }
   ],
   "source": [
    "dataset = pd.read_csv(\"train.csv\")\n",
    "dataset.head()"
   ]
  },
  {
   "cell_type": "markdown",
   "metadata": {},
   "source": [
    "Data Dictionary\n",
    "\n",
    "Variable\tDefinition\t\n",
    "survival \tSurvival \t\n",
    "pclass \tTicket class \n",
    "sex \tSex \t\n",
    "Age \tAge in years \t\n",
    "sibsp \t# of siblings / spouses aboard the Titanic \t\n",
    "parch \t# of parents / children aboard the Titanic \t\n",
    "ticket \tTicket number \t\n",
    "fare \tPassenger fare \t\n",
    "cabin \tCabin number \t\n",
    "embarked \tPort of Embarkation \tC = Cherbourg, Q = Queenstown, S = Southampton"
   ]
  },
  {
   "cell_type": "markdown",
   "metadata": {},
   "source": [
    "## Data Preprocessing"
   ]
  },
  {
   "cell_type": "code",
   "execution_count": 3,
   "metadata": {},
   "outputs": [
    {
     "data": {
      "text/html": [
       "<div>\n",
       "<style scoped>\n",
       "    .dataframe tbody tr th:only-of-type {\n",
       "        vertical-align: middle;\n",
       "    }\n",
       "\n",
       "    .dataframe tbody tr th {\n",
       "        vertical-align: top;\n",
       "    }\n",
       "\n",
       "    .dataframe thead th {\n",
       "        text-align: right;\n",
       "    }\n",
       "</style>\n",
       "<table border=\"1\" class=\"dataframe\">\n",
       "  <thead>\n",
       "    <tr style=\"text-align: right;\">\n",
       "      <th></th>\n",
       "      <th>Age</th>\n",
       "      <th>Embarked</th>\n",
       "      <th>Fare</th>\n",
       "      <th>Parch</th>\n",
       "      <th>Pclass</th>\n",
       "      <th>Sex</th>\n",
       "      <th>SibSp</th>\n",
       "    </tr>\n",
       "  </thead>\n",
       "  <tbody>\n",
       "    <tr>\n",
       "      <th>0</th>\n",
       "      <td>22.0</td>\n",
       "      <td>S</td>\n",
       "      <td>7.2500</td>\n",
       "      <td>0</td>\n",
       "      <td>3</td>\n",
       "      <td>male</td>\n",
       "      <td>1</td>\n",
       "    </tr>\n",
       "    <tr>\n",
       "      <th>1</th>\n",
       "      <td>38.0</td>\n",
       "      <td>C</td>\n",
       "      <td>71.2833</td>\n",
       "      <td>0</td>\n",
       "      <td>1</td>\n",
       "      <td>female</td>\n",
       "      <td>1</td>\n",
       "    </tr>\n",
       "    <tr>\n",
       "      <th>2</th>\n",
       "      <td>26.0</td>\n",
       "      <td>S</td>\n",
       "      <td>7.9250</td>\n",
       "      <td>0</td>\n",
       "      <td>3</td>\n",
       "      <td>female</td>\n",
       "      <td>0</td>\n",
       "    </tr>\n",
       "    <tr>\n",
       "      <th>3</th>\n",
       "      <td>35.0</td>\n",
       "      <td>S</td>\n",
       "      <td>53.1000</td>\n",
       "      <td>0</td>\n",
       "      <td>1</td>\n",
       "      <td>female</td>\n",
       "      <td>1</td>\n",
       "    </tr>\n",
       "    <tr>\n",
       "      <th>4</th>\n",
       "      <td>35.0</td>\n",
       "      <td>S</td>\n",
       "      <td>8.0500</td>\n",
       "      <td>0</td>\n",
       "      <td>3</td>\n",
       "      <td>male</td>\n",
       "      <td>0</td>\n",
       "    </tr>\n",
       "  </tbody>\n",
       "</table>\n",
       "</div>"
      ],
      "text/plain": [
       "    Age Embarked     Fare  Parch  Pclass     Sex  SibSp\n",
       "0  22.0        S   7.2500      0       3    male      1\n",
       "1  38.0        C  71.2833      0       1  female      1\n",
       "2  26.0        S   7.9250      0       3  female      0\n",
       "3  35.0        S  53.1000      0       1  female      1\n",
       "4  35.0        S   8.0500      0       3    male      0"
      ]
     },
     "execution_count": 3,
     "metadata": {},
     "output_type": "execute_result"
    }
   ],
   "source": [
    "y = dataset[\"Survived\"]\n",
    "X = pd.DataFrame(dataset[dataset.columns.difference([\"PassengerId\", \"Survived\", \"Cabin\", \"Name\", \"Ticket\"])])\n",
    "X.head()"
   ]
  },
  {
   "cell_type": "markdown",
   "metadata": {},
   "source": [
    "### Imput missing values"
   ]
  },
  {
   "cell_type": "code",
   "execution_count": 4,
   "metadata": {},
   "outputs": [
    {
     "data": {
      "text/plain": [
       "Age         177\n",
       "Embarked      2\n",
       "Fare          0\n",
       "Parch         0\n",
       "Pclass        0\n",
       "Sex           0\n",
       "SibSp         0\n",
       "dtype: int64"
      ]
     },
     "execution_count": 4,
     "metadata": {},
     "output_type": "execute_result"
    }
   ],
   "source": [
    "X.isna().sum()"
   ]
  },
  {
   "cell_type": "code",
   "execution_count": 5,
   "metadata": {},
   "outputs": [],
   "source": [
    "X[[\"Embarked\"]] = X[[\"Embarked\"]].fillna(value=X[\"Embarked\"].value_counts().index[0])\n",
    "\n",
    "age_imputer = Imputer(missing_values=\"NaN\", strategy=\"mean\", axis=0).fit(X[[\"Age\"]])\n",
    "X[[\"Age\"]] = age_imputer.transform(X[[\"Age\"]])"
   ]
  },
  {
   "cell_type": "markdown",
   "metadata": {},
   "source": [
    "### Handling categorical data"
   ]
  },
  {
   "cell_type": "code",
   "execution_count": 6,
   "metadata": {},
   "outputs": [],
   "source": [
    "X = pd.get_dummies(X, columns=[\"Pclass\", \"Embarked\", \"Sex\"], drop_first=True)"
   ]
  },
  {
   "cell_type": "markdown",
   "metadata": {},
   "source": [
    "### Create training and test sets"
   ]
  },
  {
   "cell_type": "code",
   "execution_count": 7,
   "metadata": {},
   "outputs": [],
   "source": [
    "X_train, X_test, y_train, y_test = train_test_split(X, y, test_size=0.3, random_state=0, stratify=y)"
   ]
  },
  {
   "cell_type": "code",
   "execution_count": 8,
   "metadata": {},
   "outputs": [
    {
     "name": "stdout",
     "output_type": "stream",
     "text": [
      "Train split:  [0.61637239 0.38362761]\n",
      "Test split:  [0.61567164 0.38432836]\n"
     ]
    }
   ],
   "source": [
    "print(\"Train split: \", np.bincount(y_train)/y_train.shape[0])\n",
    "print(\"Test split: \", np.bincount(y_test)/y_test.shape[0])"
   ]
  },
  {
   "cell_type": "markdown",
   "metadata": {},
   "source": [
    "### Standardize features"
   ]
  },
  {
   "cell_type": "code",
   "execution_count": 55,
   "metadata": {},
   "outputs": [],
   "source": [
    "class SubsetStandardScaler(StandardScaler):\n",
    "    \n",
    "    def __init__(self, columns=None, **kwargs):\n",
    "        super().__init__(**kwargs)\n",
    "        self.columns = columns\n",
    "        \n",
    "    def fit(self, X, y=None):\n",
    "        if self.columns is None:\n",
    "            return super().fit(X, y)\n",
    "        return super().fit(X[self.columns], y)\n",
    "        \n",
    "    def transform(self, X, y=\"deprecated\", copy=None):\n",
    "        if self.columns is None:\n",
    "            return super().transform(X, y, copy)\n",
    "        X_std = X.copy()\n",
    "        X_subset_std = super().transform(X_std[self.columns], y, copy)\n",
    "        for i in range(X_subset_std.shape[1]):\n",
    "            X_std[[self.columns[i]]] = X_subset_std[:,i]\n",
    "        return X_std.values"
   ]
  },
  {
   "cell_type": "markdown",
   "metadata": {},
   "source": [
    "## Algorithm Selection\n",
    "\n",
    "Using nested cross-validation select the best algorithm among following:\n",
    "- logistic regression\n",
    "- svc\n",
    "- decision tree classifier\n",
    "- random forests\n",
    "- k-nearest neighbors"
   ]
  },
  {
   "cell_type": "markdown",
   "metadata": {},
   "source": [
    "### Logistic Regression"
   ]
  },
  {
   "cell_type": "code",
   "execution_count": 81,
   "metadata": {},
   "outputs": [
    {
     "name": "stdout",
     "output_type": "stream",
     "text": [
      "CV accuracy: 0.793 +/- 0.027\n"
     ]
    }
   ],
   "source": [
    "pipe_lr = make_pipeline(\n",
    "    SubsetStandardScaler(columns=[\"Age\", \"Fare\"]),\n",
    "    LogisticRegression()\n",
    ")\n",
    "\n",
    "gs = GridSearchCV(\n",
    "    estimator=pipe_lr,\n",
    "    param_grid = [ { \"logisticregression__C\": [0.001, 0.01, 0.1, 1.0, 10.0, 100.0]} ],\n",
    "    scoring=\"accuracy\", cv=2\n",
    ")\n",
    "\n",
    "scores = cross_val_score(gs, X_train, y_train, scoring=\"accuracy\", cv=5)\n",
    "\n",
    "print(\"CV accuracy: %.3f +/- %.3f\" % (np.mean(scores), np.std(scores)))"
   ]
  },
  {
   "cell_type": "markdown",
   "metadata": {},
   "source": [
    "### SVC"
   ]
  },
  {
   "cell_type": "code",
   "execution_count": 83,
   "metadata": {},
   "outputs": [
    {
     "name": "stdout",
     "output_type": "stream",
     "text": [
      "CV accuracy: 0.825 +/- 0.012\n"
     ]
    }
   ],
   "source": [
    "pipe_svc = make_pipeline(\n",
    "    SubsetStandardScaler(columns=[\"Age\", \"Fare\"]),\n",
    "    SVC(random_state=1)\n",
    ")\n",
    "\n",
    "param_range = [ 10**i for i in range(-2, 2,) ]\n",
    "param_grid = [\n",
    "    {\"svc__C\": param_range, \"svc__kernel\": [\"linear\"]},\n",
    "    {\"svc__C\": param_range, \"svc__gamma\": param_range, \"svc__kernel\": [\"rbf\"]}\n",
    "]\n",
    "\n",
    "gs = GridSearchCV(\n",
    "    estimator=pipe_svc, param_grid=param_grid, scoring=\"accuracy\", \n",
    "    cv=2, n_jobs=-1\n",
    ")\n",
    "scores = cross_val_score(gs, X_train, y_train, scoring=\"accuracy\", cv=5)\n",
    "\n",
    "print(\"CV accuracy: %.3f +/- %.3f\" % (np.mean(scores), np.std(scores)))"
   ]
  },
  {
   "cell_type": "markdown",
   "metadata": {},
   "source": [
    "### Decision Tree Classifier"
   ]
  },
  {
   "cell_type": "code",
   "execution_count": 87,
   "metadata": {},
   "outputs": [
    {
     "name": "stdout",
     "output_type": "stream",
     "text": [
      "CV accuracy: 0.799 +/- 0.008\n"
     ]
    }
   ],
   "source": [
    "dtc_pipe = make_pipeline(\n",
    "    SubsetStandardScaler(columns=[\"Age\", \"Fare\"]),\n",
    "    DecisionTreeClassifier(random_state=1)\n",
    ")\n",
    "\n",
    "gs = GridSearchCV(\n",
    "    estimator=dtc_pipe,\n",
    "    param_grid=[{ \"decisiontreeclassifier__max_depth\": [1, 2, 3, 4, 5, 6, 7, None]}],\n",
    "    scoring=\"accuracy\", cv=2, n_jobs=-1\n",
    ")\n",
    "scores = cross_val_score(gs, X_train, y_train, scoring=\"accuracy\", cv=5)\n",
    "\n",
    "print(\"CV accuracy: %.3f +/- %.3f\" % (np.mean(scores), np.std(scores)))"
   ]
  },
  {
   "cell_type": "markdown",
   "metadata": {},
   "source": [
    "### Random Forest"
   ]
  },
  {
   "cell_type": "code",
   "execution_count": 89,
   "metadata": {},
   "outputs": [
    {
     "name": "stdout",
     "output_type": "stream",
     "text": [
      "CV accuracy: 0.796 +/- 0.021\n"
     ]
    }
   ],
   "source": [
    "rf_pipe = make_pipeline(\n",
    "    SubsetStandardScaler(columns=[\"Age\", \"Fare\"]),\n",
    "    RandomForestClassifier(random_state=1)\n",
    ")\n",
    "\n",
    "gs = GridSearchCV(\n",
    "    estimator=rf_pipe,\n",
    "    param_grid=[{\n",
    "        \"randomforestclassifier__max_depth\": [1, 2, 3, None],\n",
    "        \"randomforestclassifier__n_estimators\": [10, 50, 100, 150, 200, 250]\n",
    "    }],\n",
    "    cv=2, n_jobs=-1, scoring=\"accuracy\"\n",
    ")\n",
    "scores = cross_val_score(gs, X_train, y_train, scoring=\"accuracy\", cv=5)\n",
    "\n",
    "print(\"CV accuracy: %.3f +/- %.3f\" % (np.mean(scores), np.std(scores)))"
   ]
  },
  {
   "cell_type": "markdown",
   "metadata": {},
   "source": [
    "### K-nearest neighbors"
   ]
  },
  {
   "cell_type": "code",
   "execution_count": 95,
   "metadata": {},
   "outputs": [
    {
     "name": "stdout",
     "output_type": "stream",
     "text": [
      "CV accuracy: 0.778 +/- 0.017\n"
     ]
    }
   ],
   "source": [
    "knn_pipe = make_pipeline(\n",
    "    SubsetStandardScaler(columns=[\"Age\", \"Fare\"]),\n",
    "    KNeighborsClassifier(p=2, metric=\"minkowski\")\n",
    ")\n",
    "\n",
    "gs = GridSearchCV(\n",
    "    estimator=knn_pipe,\n",
    "    param_grid=[{\n",
    "        \"kneighborsclassifier__n_neighbors\": [2, 5, 10, 15, 20, 25]\n",
    "    }],\n",
    "    scoring=\"accuracy\", cv=2, n_jobs=-1\n",
    ")\n",
    "scores = cross_val_score(gs, X_train, y_train, scoring=\"accuracy\", cv=5)\n",
    "\n",
    "print(\"CV accuracy: %.3f +/- %.3f\" % (np.mean(scores), np.std(scores)))"
   ]
  },
  {
   "cell_type": "markdown",
   "metadata": {},
   "source": [
    "SVC with accuracy of 0.825 is the best algorithm."
   ]
  },
  {
   "cell_type": "markdown",
   "metadata": {},
   "source": [
    "## SVC - Model Selection"
   ]
  },
  {
   "cell_type": "code",
   "execution_count": 105,
   "metadata": {},
   "outputs": [],
   "source": [
    "pipe_svc = make_pipeline(\n",
    "    SubsetStandardScaler(columns=[\"Age\", \"Fare\"]),\n",
    "    SVC(random_state=1)\n",
    ")\n",
    "\n",
    "param_range = [ 10**i for i in range(-2, 2,) ]\n",
    "param_grid = [\n",
    "    {\"svc__C\": param_range, \"svc__kernel\": [\"linear\"]},\n",
    "    {\"svc__C\": param_range, \"svc__gamma\": param_range, \"svc__kernel\": [\"rbf\"]}\n",
    "]\n",
    "\n",
    "gs = GridSearchCV(\n",
    "    estimator=pipe_svc, param_grid=param_grid, scoring=\"accuracy\", \n",
    "    cv=2, n_jobs=-1\n",
    ").fit(X_train, y_train)"
   ]
  },
  {
   "cell_type": "code",
   "execution_count": 106,
   "metadata": {},
   "outputs": [
    {
     "data": {
      "text/plain": [
       "{'svc__C': 1, 'svc__gamma': 0.1, 'svc__kernel': 'rbf'}"
      ]
     },
     "execution_count": 106,
     "metadata": {},
     "output_type": "execute_result"
    }
   ],
   "source": [
    "gs.best_params_"
   ]
  },
  {
   "cell_type": "code",
   "execution_count": 108,
   "metadata": {},
   "outputs": [],
   "source": [
    "pipe_svc = make_pipeline(\n",
    "    SubsetStandardScaler(columns=[\"Age\", \"Fare\"]),\n",
    "    SVC(kernel=\"rbf\", gamma=0.1, C=1)\n",
    ").fit(X_train, y_train)"
   ]
  },
  {
   "cell_type": "code",
   "execution_count": 110,
   "metadata": {},
   "outputs": [
    {
     "name": "stdout",
     "output_type": "stream",
     "text": [
      "SVC accuracy on test set: 0.836\n"
     ]
    }
   ],
   "source": [
    "print(\"SVC accuracy on test set: %.3f\" % pipe_svc.score(X_test, y_test))"
   ]
  }
 ],
 "metadata": {
  "kernelspec": {
   "display_name": "Python 3",
   "language": "python",
   "name": "python3"
  },
  "language_info": {
   "codemirror_mode": {
    "name": "ipython",
    "version": 3
   },
   "file_extension": ".py",
   "mimetype": "text/x-python",
   "name": "python",
   "nbconvert_exporter": "python",
   "pygments_lexer": "ipython3",
   "version": "3.6.3"
  }
 },
 "nbformat": 4,
 "nbformat_minor": 2
}
