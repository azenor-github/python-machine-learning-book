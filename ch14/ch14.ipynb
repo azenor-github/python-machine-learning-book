{
 "cells": [
  {
   "cell_type": "markdown",
   "metadata": {},
   "source": [
    "# CH14: Going Deeper - The Machanics of TensorFlow"
   ]
  },
  {
   "cell_type": "markdown",
   "metadata": {},
   "source": [
    "## Prerequisites"
   ]
  },
  {
   "cell_type": "code",
   "execution_count": 128,
   "metadata": {},
   "outputs": [],
   "source": [
    "import tensorflow as tf\n",
    "import numpy as np\n",
    "import pandas as pd\n",
    "import matplotlib.pyplot as plt\n",
    "\n",
    "from sklearn import datasets\n",
    "from sklearn import metrics\n",
    "from sklearn.model_selection import train_test_split"
   ]
  },
  {
   "cell_type": "markdown",
   "metadata": {},
   "source": [
    "## Logistic Regression Model with TensorFlow"
   ]
  },
  {
   "cell_type": "markdown",
   "metadata": {},
   "source": [
    "### Load IRIS dataset"
   ]
  },
  {
   "cell_type": "code",
   "execution_count": 110,
   "metadata": {},
   "outputs": [],
   "source": [
    "iris = datasets.load_iris()\n",
    "\n",
    "df = pd.DataFrame(iris[\"data\"], columns=iris[\"feature_names\"])\n",
    "df[\"Species\"] = iris[\"target_names\"][iris[\"target\"]]"
   ]
  },
  {
   "cell_type": "markdown",
   "metadata": {},
   "source": [
    "### Create training and test samples"
   ]
  },
  {
   "cell_type": "code",
   "execution_count": 111,
   "metadata": {},
   "outputs": [],
   "source": [
    "df = df[:100]\n",
    "df.Species = df.Species.replace(to_replace=[\"setosa\", \"versicolor\"], value=[0, 1])\n",
    "\n",
    "X = df.iloc[:,0:4].values\n",
    "y = df.Species[:, np.newaxis]"
   ]
  },
  {
   "cell_type": "code",
   "execution_count": 112,
   "metadata": {},
   "outputs": [],
   "source": [
    "X_train, X_test, y_train, y_test = train_test_split(X, y, test_size=0.3, random_state=0, stratify=y)"
   ]
  },
  {
   "cell_type": "markdown",
   "metadata": {},
   "source": [
    "### Logistic Regression"
   ]
  },
  {
   "cell_type": "code",
   "execution_count": 123,
   "metadata": {},
   "outputs": [],
   "source": [
    "g = tf.Graph()\n",
    "\n",
    "with g.as_default():\n",
    "    tf.set_random_seed(1)\n",
    "    \n",
    "    ## placeholders\n",
    "    tf_x = tf.placeholder(shape=(None, 4), dtype=tf.float32, name=\"tf_x\")\n",
    "    tf_y = tf.placeholder(shape=(None, 1), dtype=tf.float32, name=\"tf_y\")\n",
    "    \n",
    "    ## model parameters\n",
    "    weights = tf.Variable(\n",
    "        tf.random_normal(shape=(4, 1), stddev=0.25),\n",
    "        name=\"weights\"\n",
    "    )\n",
    "    bias = tf.Variable(tf.random_normal(shape=(1, 1)), name=\"bias\")\n",
    "    \n",
    "    z = tf.add(tf.matmul(tf_x, weights), bias)\n",
    "    y_hat = tf.sigmoid(z)\n",
    "    \n",
    "    cost = tf.reduce_mean(tf.nn.sigmoid_cross_entropy_with_logits(logits=z, labels=tf_y))\n",
    "    \n",
    "    predict = tf.round(y_hat)\n",
    "    correct = tf.cast(tf.equal(predict, tf_y), dtype=tf.float32)\n",
    "    accuracy = tf.reduce_mean(correct)\n",
    "    \n",
    "    ## train the model\n",
    "    optim = tf.train.GradientDescentOptimizer(learning_rate=0.001)\n",
    "    train_op = optim.minimize(cost, name=\"train_op\")"
   ]
  },
  {
   "cell_type": "code",
   "execution_count": 124,
   "metadata": {},
   "outputs": [
    {
     "name": "stdout",
     "output_type": "stream",
     "text": [
      "Epoch    0: 1.3375\n",
      "Epoch   50: 1.0424\n",
      "Epoch  100: 0.9477\n",
      "Epoch  150: 0.7256\n",
      "Epoch  200: 0.5815\n",
      "Epoch  250: 0.5960\n",
      "Epoch  300: 0.5580\n",
      "Epoch  350: 0.5300\n",
      "Epoch  400: 0.5297\n",
      "Epoch  450: 0.5019\n",
      "Epoch  500: 0.4867\n",
      "Epoch  550: 0.4906\n",
      "Epoch  600: 0.4681\n",
      "Epoch  650: 0.4487\n",
      "Epoch  700: 0.4569\n",
      "Epoch  750: 0.4333\n",
      "Epoch  800: 0.4249\n",
      "Epoch  850: 0.3933\n",
      "Epoch  900: 0.4053\n",
      "Epoch  950: 0.3874\n"
     ]
    }
   ],
   "source": [
    "n_epochs = 1000\n",
    "batch_size = X_train.shape[0]\n",
    "\n",
    "training_costs = []\n",
    "train_accuracy = []\n",
    "test_accuracy = []\n",
    "\n",
    "with tf.Session(graph=g) as sess:\n",
    "    sess.run(tf.global_variables_initializer())\n",
    "    \n",
    "    for e in range(n_epochs):\n",
    "        \n",
    "        batch_index = np.random.choice(X_train.shape[0], size=batch_size)\n",
    "        X_train_batch = X_train[batch_index]\n",
    "        y_train_batch = y_train[batch_index]\n",
    "    \n",
    "        c, _ = sess.run([cost, train_op], feed_dict={tf_x: X_train_batch, tf_y: y_train_batch})\n",
    "        \n",
    "        temp_train_acc = sess.run(accuracy, feed_dict={tf_x: X_train, tf_y: y_train})\n",
    "        temp_test_acc = sess.run(accuracy, feed_dict={tf_x: X_test, tf_y: y_test})\n",
    "        \n",
    "        training_costs.append(c)\n",
    "        train_accuracy.append(temp_train_acc)\n",
    "        test_accuracy.append(temp_test_acc)\n",
    "    \n",
    "        if not e % 50:\n",
    "            print(\"Epoch %4d: %.4f\" % (e, c))\n",
    "            \n",
    "    y_hat_train = sess.run(predict, feed_dict={tf_x: X_train})\n",
    "    y_hat_test = sess.run(predict, feed_dict={tf_x: X_test})"
   ]
  },
  {
   "cell_type": "code",
   "execution_count": 125,
   "metadata": {},
   "outputs": [
    {
     "name": "stdout",
     "output_type": "stream",
     "text": [
      "Train accuracy: 100.00%\n",
      "Test accuracy: 100.00%\n"
     ]
    }
   ],
   "source": [
    "print(\"Train accuracy: %.2f%%\" % (100*metrics.accuracy_score(y_train, y_hat_train)))\n",
    "print(\"Test accuracy: %.2f%%\" % (100*metrics.accuracy_score(y_test, y_hat_test)))"
   ]
  },
  {
   "cell_type": "code",
   "execution_count": 130,
   "metadata": {},
   "outputs": [
    {
     "data": {
      "image/png": "[encoded data removed]",
      "text/plain": [
       "<Figure size 432x288 with 1 Axes>"
      ]
     },
     "metadata": {},
     "output_type": "display_data"
    }
   ],
   "source": [
    "plt.plot(training_costs)\n",
    "plt.title('Cross Entropy Loss')\n",
    "plt.xlabel('epoch')\n",
    "plt.ylabel('loss')\n",
    "plt.show()"
   ]
  },
  {
   "cell_type": "code",
   "execution_count": 134,
   "metadata": {},
   "outputs": [
    {
     "data": {
      "image/png": "[encoded data removed]",
      "text/plain": [
       "<Figure size 432x288 with 1 Axes>"
      ]
     },
     "metadata": {},
     "output_type": "display_data"
    }
   ],
   "source": [
    "plt.plot(train_accuracy, \"b-\", label=\"train accuracy\")\n",
    "plt.plot(test_accuracy, \"k-\", label=\"test accuracy\")\n",
    "plt.xlabel(\"epoch\")\n",
    "plt.ylabel(\"accuracy\")\n",
    "plt.title(\"Train and Test Accuracy\")\n",
    "plt.legend(loc=\"best\")\n",
    "plt.show()"
   ]
  }
 ],
 "metadata": {
  "kernelspec": {
   "display_name": "Python 3",
   "language": "python",
   "name": "python3"
  },
  "language_info": {
   "codemirror_mode": {
    "name": "ipython",
    "version": 3
   },
   "file_extension": ".py",
   "mimetype": "text/x-python",
   "name": "python",
   "nbconvert_exporter": "python",
   "pygments_lexer": "ipython3",
   "version": "3.6.5"
  }
 },
 "nbformat": 4,
 "nbformat_minor": 2
}
