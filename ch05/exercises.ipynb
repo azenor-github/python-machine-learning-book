{
 "cells": [
  {
   "cell_type": "code",
   "execution_count": 4,
   "metadata": {},
   "outputs": [],
   "source": [
    "import numpy as np"
   ]
  },
  {
   "cell_type": "markdown",
   "metadata": {},
   "source": [
    "### Compute the Linear Discriminant projection for the following two-dimensional dataset:"
   ]
  },
  {
   "cell_type": "code",
   "execution_count": 39,
   "metadata": {},
   "outputs": [],
   "source": [
    "X1 = np.array([\n",
    "    [4, 1],\n",
    "    [2, 4],\n",
    "    [2, 3],\n",
    "    [3, 6],\n",
    "    [4, 4]\n",
    "])\n",
    "X2 = np.array([\n",
    "    [9, 10],\n",
    "    [6, 8],\n",
    "    [9, 5],\n",
    "    [8, 7],\n",
    "    [10, 8]\n",
    "])"
   ]
  },
  {
   "cell_type": "code",
   "execution_count": 43,
   "metadata": {},
   "outputs": [],
   "source": [
    "# Calculate within-class and between-class scatter matrixes\n",
    "\n",
    "u1 = np.mean(X1, axis=0)\n",
    "u2 = np.mean(X2, axis=0)"
   ]
  },
  {
   "cell_type": "code",
   "execution_count": 41,
   "metadata": {},
   "outputs": [],
   "source": [
    "S1 = (X1-u1).T.dot((X1-u1))/X1.shape[0]\n",
    "S2 = (X2-u2).T.dot((X2-u2))/X2.shape[0]"
   ]
  },
  {
   "cell_type": "code",
   "execution_count": 42,
   "metadata": {},
   "outputs": [
    {
     "data": {
      "text/plain": [
       "array([[ 2.64, -0.44],\n",
       "       [-0.44,  5.28]])"
      ]
     },
     "execution_count": 42,
     "metadata": {},
     "output_type": "execute_result"
    }
   ],
   "source": [
    "SW = S1 + S2 # within-class scatter matrix\n",
    "SW"
   ]
  },
  {
   "cell_type": "code",
   "execution_count": 71,
   "metadata": {},
   "outputs": [
    {
     "data": {
      "text/plain": [
       "array([[29.16, 21.6 ],\n",
       "       [21.6 , 16.  ]])"
      ]
     },
     "execution_count": 71,
     "metadata": {},
     "output_type": "execute_result"
    }
   ],
   "source": [
    "ud = (u1-u2)[:, np.newaxis]\n",
    "SB = ud.dot(ud.T)\n",
    "SB"
   ]
  },
  {
   "cell_type": "code",
   "execution_count": 82,
   "metadata": {},
   "outputs": [],
   "source": [
    "# Solve generalized eigenvalue problem\n",
    "\n",
    "evals, evecs = np.linalg.eig(np.linalg.inv(SW).dot(SB))"
   ]
  },
  {
   "cell_type": "code",
   "execution_count": 83,
   "metadata": {},
   "outputs": [
    {
     "data": {
      "text/plain": [
       "array([[ 0.91955932, -0.59522755],\n",
       "       [ 0.39295122,  0.80355719]])"
      ]
     },
     "execution_count": 83,
     "metadata": {},
     "output_type": "execute_result"
    }
   ],
   "source": [
    "evecs"
   ]
  },
  {
   "cell_type": "code",
   "execution_count": null,
   "metadata": {},
   "outputs": [],
   "source": []
  }
 ],
 "metadata": {
  "kernelspec": {
   "display_name": "Python 3",
   "language": "python",
   "name": "python3"
  },
  "language_info": {
   "codemirror_mode": {
    "name": "ipython",
    "version": 3
   },
   "file_extension": ".py",
   "mimetype": "text/x-python",
   "name": "python",
   "nbconvert_exporter": "python",
   "pygments_lexer": "ipython3",
   "version": "3.6.3"
  }
 },
 "nbformat": 4,
 "nbformat_minor": 2
}
